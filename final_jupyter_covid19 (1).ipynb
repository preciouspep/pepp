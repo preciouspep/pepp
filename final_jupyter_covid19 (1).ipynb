{
 "cells": [
  {
   "cell_type": "markdown",
   "metadata": {},
   "source": [
    "<a href=\"https://cognitiveclass.ai/?utm_medium=Exinfluencer&utm_source=Exinfluencer&utm_content=000026UJ&utm_term=10006555&utm_id=NA-SkillsNetwork-Channel-SkillsNetworkCoursesIBMDeveloperSkillsNetworkRP0101ENCoursera23911160-2022-01-01\">\n",
    "    <img src=\"https://cf-courses-data.s3.us.cloud-object-storage.appdomain.cloud/IBMDeveloperSkillsNetwork-RP0101EN-Coursera/v2/M1_R_Basics/images/IDSNlogo.png\" width=\"200\" align=\"center\">\n",
    "</a>\n"
   ]
  },
  {
   "cell_type": "markdown",
   "metadata": {},
   "source": [
    "<h1>Analysis of Global COVID-19 Pandemic Data</h1>\n",
    "\n",
    "Estimated time needed: **90** minutes\n"
   ]
  },
  {
   "cell_type": "markdown",
   "metadata": {},
   "source": [
    "## Overview:\n",
    "\n",
    "There are 10 tasks in this final project. All tasks will be graded by your peers who are also completing this assignment within the same session.\n",
    "\n",
    "You need to submit the following the screenshot for the code and output for each task for review.\n",
    "\n",
    "If you need to refresh your memories about specific coding details, you may refer to previous hands-on labs for code examples.\n"
   ]
  },
  {
   "cell_type": "code",
   "execution_count": 3,
   "metadata": {},
   "outputs": [
    {
     "name": "stderr",
     "output_type": "stream",
     "text": [
      "Loading required package: httr\n",
      "Loading required package: rvest\n",
      "Loading required package: xml2\n"
     ]
    }
   ],
   "source": [
    "require(\"httr\")\n",
    "require(\"rvest\")\n",
    "\n",
    "library(httr)\n",
    "library(rvest)"
   ]
  },
  {
   "cell_type": "markdown",
   "metadata": {},
   "source": [
    "Note: if you can import above libraries, please use install.packages() to install them first.\n"
   ]
  },
  {
   "cell_type": "markdown",
   "metadata": {},
   "source": [
    "## TASK 1: Get a `COVID-19 pandemic` Wiki page using HTTP request\n"
   ]
  },
  {
   "cell_type": "markdown",
   "metadata": {},
   "source": [
    "First, let's write a function to use HTTP request to get a public COVID-19 Wiki page.\n",
    "\n",
    "Before you write the function, you can open this public page from this\n",
    "\n",
    "URL [https://en.wikipedia.org/w/index.php?title=Template\\:COVID-19\\_testing_by_country](https://en.wikipedia.org/w/index.php?utm_medium=Exinfluencer&utm_source=Exinfluencer&utm_content=000026UJ&utm_term=10006555&utm_id=NA-SkillsNetwork-Channel-SkillsNetworkCoursesIBMDeveloperSkillsNetworkRP0101ENCoursera23911160-2022-01-01&title=Template%3ACOVID-19\\_testing_by_country) using a web browser.\n",
    "\n",
    "The goal of task 1 is to get the html page using HTTP request (`httr` library)\n"
   ]
  },
  {
   "cell_type": "code",
   "execution_count": 14,
   "metadata": {},
   "outputs": [],
   "source": [
    "\n",
    "get_wiki_covid19_page <- function() {\n",
    "    \n",
    "  # Our target COVID-19 wiki page URL is: https://en.wikipedia.org/w/index.php?title=Template:COVID-19_testing_by_country  \n",
    "  # Which has two parts: \n",
    "    # 1) base URL `https://en.wikipedia.org/w/index.php  \n",
    "    # 2) URL parameter: `title=Template:COVID-19_testing_by_country`, seperated by question mark ?\n",
    "    \n",
    "  # Wiki page base\n",
    "  wiki_base_url <- \"https://en.wikipedia.org/w/index.php\"\n",
    "  # You will need to create a List which has an element called `title` to specify which page you want to get from Wiki\n",
    "  # in our case, it will be `Template:COVID-19_testing_by_country`\n",
    " \n",
    "  # - Use the `GET` function in httr library with a `url` argument and a `query` arugment to get a HTTP response\n",
    "    \n",
    "  # Use the `return` function to return the response\n",
    "      query_params <- list(title= 'Template:COVID-19_testing_by_country')\n",
    "        response <- GET(wiki_base_url, query= query_params)\n",
    "        return(response)\n",
    "}\n",
    "\n",
    "\n"
   ]
  },
  {
   "cell_type": "markdown",
   "metadata": {},
   "source": [
    "Call the `get_wiki_covid19_page` function to get a http response with the target html page\n"
   ]
  },
  {
   "cell_type": "code",
   "execution_count": 15,
   "metadata": {},
   "outputs": [
    {
     "data": {
      "text/plain": [
       "Response [https://en.wikipedia.org/w/index.php?title=Template%3ACOVID-19_testing_by_country]\n",
       "  Date: 2022-07-17 01:08\n",
       "  Status: 200\n",
       "  Content-Type: text/html; charset=UTF-8\n",
       "  Size: 414 kB\n",
       "<!DOCTYPE html>\n",
       "<html class=\"client-nojs\" lang=\"en\" dir=\"ltr\">\n",
       "<head>\n",
       "<meta charset=\"UTF-8\"/>\n",
       "<title>Template:COVID-19 testing by country - Wikipedia</title>\n",
       "<script>document.documentElement.className=\"client-js\";RLCONF={\"wgBreakFrames...\n",
       "\"CS1 German-language sources (de)\",\"CS1 Azerbaijani-language sources (az)\",\"C...\n",
       "\"CS1 uses Japanese-language script (ja)\",\"CS1 Japanese-language sources (ja)\"...\n",
       "\"COVID-19 pandemic templates\"],\"wgPageContentLanguage\":\"en\",\"wgPageContentMod...\n",
       "true,\"wgGETopicsMatchModeEnabled\":false,\"wgGEStructuredTaskRejectionReasonTex...\n",
       "..."
      ]
     },
     "metadata": {},
     "output_type": "display_data"
    }
   ],
   "source": [
    "# Call the get_wiki_covid19_page function and print the response\n",
    "response = get_wiki_covid19_page()\n",
    "response"
   ]
  },
  {
   "cell_type": "markdown",
   "metadata": {},
   "source": [
    "## TASK 2: Extract COVID-19 testing data table from the wiki HTML page\n"
   ]
  },
  {
   "cell_type": "markdown",
   "metadata": {},
   "source": [
    "On the COVID-19 testing wiki page, you should see a data table `<table>` node contains COVID-19 testing data by country on the page:\n",
    "\n",
    "<a href=\"https://cognitiveclass.ai/?utm_medium=Exinfluencer&utm_source=Exinfluencer&utm_content=000026UJ&utm_term=10006555&utm_id=NA-SkillsNetwork-Channel-SkillsNetworkCoursesIBMDeveloperSkillsNetworkRP0101ENCoursera23911160-2022-01-01\">\n",
    "    <img src=\"https://cf-courses-data.s3.us.cloud-object-storage.appdomain.cloud/IBMDeveloperSkillsNetwork-RP0101EN-Coursera/v2/M5_Final/images/covid-19-by-country.png\" width=\"400\" align=\"center\">\n",
    "</a>\n",
    "\n",
    "Note the numbers you actually see on your page may be different from above because it is still an on-going pandemic when creating this notebook.\n",
    "\n",
    "The goal of task 2 is to extract above data table and convert it into a data frame\n"
   ]
  },
  {
   "cell_type": "markdown",
   "metadata": {},
   "source": [
    "Now use the `read_html` function in rvest library to get the root html node from response\n"
   ]
  },
  {
   "cell_type": "code",
   "execution_count": 16,
   "metadata": {},
   "outputs": [
    {
     "data": {
      "text/plain": [
       "{html_document}\n",
       "<html class=\"client-nojs\" lang=\"en\" dir=\"ltr\">\n",
       "[1] <head>\\n<meta http-equiv=\"Content-Type\" content=\"text/html; charset=UTF-8 ...\n",
       "[2] <body class=\"mediawiki ltr sitedir-ltr mw-hide-empty-elt ns-10 ns-subject ..."
      ]
     },
     "metadata": {},
     "output_type": "display_data"
    }
   ],
   "source": [
    "# Get the root html node from the http response in task 1 \n",
    "root_node <- read_html(response)\n",
    "root_node"
   ]
  },
  {
   "cell_type": "markdown",
   "metadata": {},
   "source": [
    "Get the first table in the HTML root node using `html_node` function\n"
   ]
  },
  {
   "cell_type": "code",
   "execution_count": 17,
   "metadata": {},
   "outputs": [
    {
     "data": {
      "text/plain": [
       "{html_node}\n",
       "<table class=\"wikitable plainrowheaders sortable collapsible autocollapse\">\n",
       "[1] <caption>\\n<style data-mw-deduplicate=\"TemplateStyles:r1063604349\">.mw-pa ...\n",
       "[2] <tbody>\\n<tr>\\n<th>Country or region\\n</th>\\n<th>Date<sup id=\"cite_ref-1\" ..."
      ]
     },
     "metadata": {},
     "output_type": "display_data"
    }
   ],
   "source": [
    "# Get the table node from the root html node\n",
    "table_node <- html_node(root_node, \"table\")\n",
    "table_node"
   ]
  },
  {
   "cell_type": "markdown",
   "metadata": {},
   "source": [
    "Read the table node as a data frame using `html_table` function\n"
   ]
  },
  {
   "cell_type": "code",
   "execution_count": 22,
   "metadata": {},
   "outputs": [
    {
     "data": {
      "text/html": [
       "<table>\n",
       "<caption>A data.frame: 6 × 9</caption>\n",
       "<thead>\n",
       "\t<tr><th></th><th scope=col>Country or region</th><th scope=col>Date[a]</th><th scope=col>Tested</th><th scope=col>Units[b]</th><th scope=col>Confirmed(cases)</th><th scope=col>Confirmed /tested,%</th><th scope=col>Tested /population,%</th><th scope=col>Confirmed /population,%</th><th scope=col>Ref.</th></tr>\n",
       "\t<tr><th></th><th scope=col>&lt;chr&gt;</th><th scope=col>&lt;chr&gt;</th><th scope=col>&lt;chr&gt;</th><th scope=col>&lt;chr&gt;</th><th scope=col>&lt;chr&gt;</th><th scope=col>&lt;chr&gt;</th><th scope=col>&lt;chr&gt;</th><th scope=col>&lt;chr&gt;</th><th scope=col>&lt;chr&gt;</th></tr>\n",
       "</thead>\n",
       "<tbody>\n",
       "\t<tr><th scope=row>1</th><td>Afghanistan        </td><td>17 Dec 2020</td><td>154,767</td><td>samples</td><td>49,621</td><td>32.1</td><td>0.40</td><td>0.13 </td><td>[1]   </td></tr>\n",
       "\t<tr><th scope=row>2</th><td>Albania            </td><td>18 Feb 2021</td><td>428,654</td><td>samples</td><td>96,838</td><td>22.6</td><td>15.0</td><td>3.4  </td><td>[2]   </td></tr>\n",
       "\t<tr><th scope=row>3</th><td>Algeria            </td><td>2 Nov 2020 </td><td>230,553</td><td>samples</td><td>58,574</td><td>25.4</td><td>0.53</td><td>0.13 </td><td>[3][4]</td></tr>\n",
       "\t<tr><th scope=row>4</th><td>Andorra            </td><td>23 Feb 2022</td><td>300,307</td><td>samples</td><td>37,958</td><td>12.6</td><td>387 </td><td>49.0 </td><td>[5]   </td></tr>\n",
       "\t<tr><th scope=row>5</th><td>Angola             </td><td>2 Feb 2021 </td><td>399,228</td><td>samples</td><td>20,981</td><td>5.3 </td><td>1.3 </td><td>0.067</td><td>[6]   </td></tr>\n",
       "\t<tr><th scope=row>6</th><td>Antigua and Barbuda</td><td>6 Mar 2021 </td><td>15,268 </td><td>samples</td><td>832   </td><td>5.4 </td><td>15.9</td><td>0.86 </td><td>[7]   </td></tr>\n",
       "</tbody>\n",
       "</table>\n"
      ],
      "text/latex": [
       "A data.frame: 6 × 9\n",
       "\\begin{tabular}{r|lllllllll}\n",
       "  & Country or region & Date{[}a{]} & Tested & Units{[}b{]} & Confirmed(cases) & Confirmed /tested,\\% & Tested /population,\\% & Confirmed /population,\\% & Ref.\\\\\n",
       "  & <chr> & <chr> & <chr> & <chr> & <chr> & <chr> & <chr> & <chr> & <chr>\\\\\n",
       "\\hline\n",
       "\t1 & Afghanistan         & 17 Dec 2020 & 154,767 & samples & 49,621 & 32.1 & 0.40 & 0.13  & {[}1{]}   \\\\\n",
       "\t2 & Albania             & 18 Feb 2021 & 428,654 & samples & 96,838 & 22.6 & 15.0 & 3.4   & {[}2{]}   \\\\\n",
       "\t3 & Algeria             & 2 Nov 2020  & 230,553 & samples & 58,574 & 25.4 & 0.53 & 0.13  & {[}3{]}{[}4{]}\\\\\n",
       "\t4 & Andorra             & 23 Feb 2022 & 300,307 & samples & 37,958 & 12.6 & 387  & 49.0  & {[}5{]}   \\\\\n",
       "\t5 & Angola              & 2 Feb 2021  & 399,228 & samples & 20,981 & 5.3  & 1.3  & 0.067 & {[}6{]}   \\\\\n",
       "\t6 & Antigua and Barbuda & 6 Mar 2021  & 15,268  & samples & 832    & 5.4  & 15.9 & 0.86  & {[}7{]}   \\\\\n",
       "\\end{tabular}\n"
      ],
      "text/markdown": [
       "\n",
       "A data.frame: 6 × 9\n",
       "\n",
       "| <!--/--> | Country or region &lt;chr&gt; | Date[a] &lt;chr&gt; | Tested &lt;chr&gt; | Units[b] &lt;chr&gt; | Confirmed(cases) &lt;chr&gt; | Confirmed /tested,% &lt;chr&gt; | Tested /population,% &lt;chr&gt; | Confirmed /population,% &lt;chr&gt; | Ref. &lt;chr&gt; |\n",
       "|---|---|---|---|---|---|---|---|---|---|\n",
       "| 1 | Afghanistan         | 17 Dec 2020 | 154,767 | samples | 49,621 | 32.1 | 0.40 | 0.13  | [1]    |\n",
       "| 2 | Albania             | 18 Feb 2021 | 428,654 | samples | 96,838 | 22.6 | 15.0 | 3.4   | [2]    |\n",
       "| 3 | Algeria             | 2 Nov 2020  | 230,553 | samples | 58,574 | 25.4 | 0.53 | 0.13  | [3][4] |\n",
       "| 4 | Andorra             | 23 Feb 2022 | 300,307 | samples | 37,958 | 12.6 | 387  | 49.0  | [5]    |\n",
       "| 5 | Angola              | 2 Feb 2021  | 399,228 | samples | 20,981 | 5.3  | 1.3  | 0.067 | [6]    |\n",
       "| 6 | Antigua and Barbuda | 6 Mar 2021  | 15,268  | samples | 832    | 5.4  | 15.9 | 0.86  | [7]    |\n",
       "\n"
      ],
      "text/plain": [
       "  Country or region   Date[a]     Tested  Units[b] Confirmed(cases)\n",
       "1 Afghanistan         17 Dec 2020 154,767 samples  49,621          \n",
       "2 Albania             18 Feb 2021 428,654 samples  96,838          \n",
       "3 Algeria             2 Nov 2020  230,553 samples  58,574          \n",
       "4 Andorra             23 Feb 2022 300,307 samples  37,958          \n",
       "5 Angola              2 Feb 2021  399,228 samples  20,981          \n",
       "6 Antigua and Barbuda 6 Mar 2021  15,268  samples  832             \n",
       "  Confirmed /tested,% Tested /population,% Confirmed /population,% Ref.  \n",
       "1 32.1                0.40                 0.13                    [1]   \n",
       "2 22.6                15.0                 3.4                     [2]   \n",
       "3 25.4                0.53                 0.13                    [3][4]\n",
       "4 12.6                387                  49.0                    [5]   \n",
       "5 5.3                 1.3                  0.067                   [6]   \n",
       "6 5.4                 15.9                 0.86                    [7]   "
      ]
     },
     "metadata": {},
     "output_type": "display_data"
    }
   ],
   "source": [
    "# Read the table node and convert it into a data frame, and print the data frame for review\n",
    "data_frame <-html_table(table_node)\n",
    "head(data_frame)"
   ]
  },
  {
   "cell_type": "markdown",
   "metadata": {},
   "source": [
    "## TASK 3: Pre-process and export the extracted data frame\n",
    "\n",
    "The goal of task 3 is to pre-process the extracted data frame from the previous step, and export it as a csv file\n"
   ]
  },
  {
   "cell_type": "markdown",
   "metadata": {},
   "source": [
    "Let's get a summary of the data frame\n"
   ]
  },
  {
   "cell_type": "code",
   "execution_count": 20,
   "metadata": {},
   "outputs": [
    {
     "data": {
      "text/plain": [
       " Country or region    Date[a]             Tested            Units[b]        \n",
       " Length:173         Length:173         Length:173         Length:173        \n",
       " Class :character   Class :character   Class :character   Class :character  \n",
       " Mode  :character   Mode  :character   Mode  :character   Mode  :character  \n",
       " Confirmed(cases)   Confirmed /tested,% Tested /population,%\n",
       " Length:173         Length:173          Length:173          \n",
       " Class :character   Class :character    Class :character    \n",
       " Mode  :character   Mode  :character    Mode  :character    \n",
       " Confirmed /population,%     Ref.          \n",
       " Length:173              Length:173        \n",
       " Class :character        Class :character  \n",
       " Mode  :character        Mode  :character  "
      ]
     },
     "metadata": {},
     "output_type": "display_data"
    }
   ],
   "source": [
    "# Print the summary of the data frame\n",
    "summary(data_frame)"
   ]
  },
  {
   "cell_type": "markdown",
   "metadata": {},
   "source": [
    "As you can see from the summary, the columns names are little bit different to understand and some column data types are not correct. For example, the `Tested` column shows as `character`.\n",
    "\n",
    "As such, the data frame read from HTML table will need some pre-processing such as removing irrelvant columns, renaming columns, and convert columns into proper data types.\n"
   ]
  },
  {
   "cell_type": "markdown",
   "metadata": {},
   "source": [
    "We have prepared a pre-processing function for you to conver the data frame but you can also try to write one by yourself\n"
   ]
  },
  {
   "cell_type": "code",
   "execution_count": 23,
   "metadata": {},
   "outputs": [],
   "source": [
    "preprocess_covid_data_frame <- function(data_frame) {\n",
    "    \n",
    "    shape <- dim(data_frame)\n",
    "\n",
    "    # Remove the World row\n",
    "    data_frame<-data_frame[!(data_frame$`Country or region`==\"World\"),]\n",
    "    # Remove the last row\n",
    "    data_frame <- data_frame[1:172, ]\n",
    "    \n",
    "    # We dont need the Units and Ref columns, so can be removed\n",
    "    data_frame[\"Ref.\"] <- NULL\n",
    "    data_frame[\"Units[b]\"] <- NULL\n",
    "    \n",
    "    # Renaming the columns\n",
    "    names(data_frame) <- c(\"country\", \"date\", \"tested\", \"confirmed\", \"confirmed.tested.ratio\", \"tested.population.ratio\", \"confirmed.population.ratio\")\n",
    "    \n",
    "    # Convert column data types\n",
    "    data_frame$country <- as.factor(data_frame$country)\n",
    "    data_frame$date <- as.factor(data_frame$date)\n",
    "    data_frame$tested <- as.numeric(gsub(\",\",\"\",data_frame$tested))\n",
    "    data_frame$confirmed <- as.numeric(gsub(\",\",\"\",data_frame$confirmed))\n",
    "    data_frame$'confirmed.tested.ratio' <- as.numeric(gsub(\",\",\"\",data_frame$`confirmed.tested.ratio`))\n",
    "    data_frame$'tested.population.ratio' <- as.numeric(gsub(\",\",\"\",data_frame$`tested.population.ratio`))\n",
    "    data_frame$'confirmed.population.ratio' <- as.numeric(gsub(\",\",\"\",data_frame$`confirmed.population.ratio`))\n",
    "    \n",
    "    return(data_frame)\n",
    "}\n",
    "\n"
   ]
  },
  {
   "cell_type": "markdown",
   "metadata": {},
   "source": [
    "Call the `preprocess_covid_data_frame` function\n"
   ]
  },
  {
   "cell_type": "code",
   "execution_count": 24,
   "metadata": {},
   "outputs": [
    {
     "data": {
      "text/html": [
       "<table>\n",
       "<caption>A data.frame: 172 × 7</caption>\n",
       "<thead>\n",
       "\t<tr><th></th><th scope=col>country</th><th scope=col>date</th><th scope=col>tested</th><th scope=col>confirmed</th><th scope=col>confirmed.tested.ratio</th><th scope=col>tested.population.ratio</th><th scope=col>confirmed.population.ratio</th></tr>\n",
       "\t<tr><th></th><th scope=col>&lt;fct&gt;</th><th scope=col>&lt;fct&gt;</th><th scope=col>&lt;dbl&gt;</th><th scope=col>&lt;dbl&gt;</th><th scope=col>&lt;dbl&gt;</th><th scope=col>&lt;dbl&gt;</th><th scope=col>&lt;dbl&gt;</th></tr>\n",
       "</thead>\n",
       "<tbody>\n",
       "\t<tr><th scope=row>1</th><td>Afghanistan           </td><td>17 Dec 2020</td><td>   154767</td><td>   49621</td><td>32.10</td><td>   0.40</td><td> 0.1300</td></tr>\n",
       "\t<tr><th scope=row>2</th><td>Albania               </td><td>18 Feb 2021</td><td>   428654</td><td>   96838</td><td>22.60</td><td>  15.00</td><td> 3.4000</td></tr>\n",
       "\t<tr><th scope=row>3</th><td>Algeria               </td><td>2 Nov 2020 </td><td>   230553</td><td>   58574</td><td>25.40</td><td>   0.53</td><td> 0.1300</td></tr>\n",
       "\t<tr><th scope=row>4</th><td>Andorra               </td><td>23 Feb 2022</td><td>   300307</td><td>   37958</td><td>12.60</td><td> 387.00</td><td>49.0000</td></tr>\n",
       "\t<tr><th scope=row>5</th><td>Angola                </td><td>2 Feb 2021 </td><td>   399228</td><td>   20981</td><td> 5.30</td><td>   1.30</td><td> 0.0670</td></tr>\n",
       "\t<tr><th scope=row>6</th><td>Antigua and Barbuda   </td><td>6 Mar 2021 </td><td>    15268</td><td>     832</td><td> 5.40</td><td>  15.90</td><td> 0.8600</td></tr>\n",
       "\t<tr><th scope=row>7</th><td>Argentina             </td><td>16 Apr 2022</td><td> 35716069</td><td> 9060495</td><td>25.40</td><td>  78.30</td><td>20.0000</td></tr>\n",
       "\t<tr><th scope=row>8</th><td>Armenia               </td><td>29 May 2022</td><td>  3099602</td><td>  422963</td><td>13.60</td><td> 105.00</td><td>14.3000</td></tr>\n",
       "\t<tr><th scope=row>9</th><td>Australia             </td><td>15 Jul 2022</td><td> 74999209</td><td> 8687125</td><td>11.60</td><td> 299.00</td><td>34.6000</td></tr>\n",
       "\t<tr><th scope=row>10</th><td>Austria               </td><td>15 Jul 2022</td><td>191905533</td><td> 4632173</td><td> 2.40</td><td>2156.00</td><td>52.0000</td></tr>\n",
       "\t<tr><th scope=row>11</th><td>Azerbaijan            </td><td>11 May 2022</td><td>  6838458</td><td>  792638</td><td>11.60</td><td>  69.10</td><td> 8.0000</td></tr>\n",
       "\t<tr><th scope=row>12</th><td>Bahamas               </td><td>11 Jul 2022</td><td>   243530</td><td>   36299</td><td>14.90</td><td>  63.20</td><td> 9.4000</td></tr>\n",
       "\t<tr><th scope=row>13</th><td>Bahrain               </td><td>12 Jul 2022</td><td> 10086686</td><td>  641978</td><td> 6.40</td><td> 643.00</td><td>40.9000</td></tr>\n",
       "\t<tr><th scope=row>14</th><td>Bangladesh            </td><td>24 Jul 2021</td><td>  7417714</td><td> 1151644</td><td>15.50</td><td>   4.50</td><td> 0.7000</td></tr>\n",
       "\t<tr><th scope=row>15</th><td>Barbados              </td><td>12 Jul 2022</td><td>   713255</td><td>   86691</td><td>12.20</td><td> 248.00</td><td>30.2000</td></tr>\n",
       "\t<tr><th scope=row>16</th><td>Belarus               </td><td>9 May 2022 </td><td> 13217569</td><td>  982809</td><td> 7.40</td><td> 139.00</td><td>10.4000</td></tr>\n",
       "\t<tr><th scope=row>17</th><td>Belgium               </td><td>14 Jul 2022</td><td> 34784155</td><td> 4349050</td><td>12.50</td><td> 302.00</td><td>37.8000</td></tr>\n",
       "\t<tr><th scope=row>18</th><td>Belize                </td><td>8 Jun 2022 </td><td>   572900</td><td>   60694</td><td>10.60</td><td> 140.00</td><td>14.9000</td></tr>\n",
       "\t<tr><th scope=row>19</th><td>Benin                 </td><td>4 May 2021 </td><td>   595112</td><td>    7884</td><td> 1.30</td><td>   5.10</td><td> 0.0670</td></tr>\n",
       "\t<tr><th scope=row>20</th><td>Bhutan                </td><td>28 Feb 2022</td><td>  1736168</td><td>   12702</td><td> 0.73</td><td> 234.00</td><td> 1.7100</td></tr>\n",
       "\t<tr><th scope=row>21</th><td>Bolivia               </td><td>5 Jun 2022 </td><td>  4358669</td><td>  910228</td><td>20.90</td><td>  38.10</td><td> 8.0000</td></tr>\n",
       "\t<tr><th scope=row>22</th><td>Bosnia and Herzegovina</td><td>13 Jul 2022</td><td>  1799158</td><td>  380211</td><td>21.10</td><td>  52.60</td><td>11.1000</td></tr>\n",
       "\t<tr><th scope=row>23</th><td>Botswana              </td><td>11 Jan 2022</td><td>  2026898</td><td>  232432</td><td>11.50</td><td>  89.90</td><td>10.3000</td></tr>\n",
       "\t<tr><th scope=row>24</th><td>Brazil                </td><td>19 Feb 2021</td><td> 23561497</td><td>10081676</td><td>42.80</td><td>  11.20</td><td> 4.8000</td></tr>\n",
       "\t<tr><th scope=row>25</th><td>Brunei                </td><td>2 Aug 2021 </td><td>   153804</td><td>     338</td><td> 0.22</td><td>  33.50</td><td> 0.0740</td></tr>\n",
       "\t<tr><th scope=row>26</th><td>Bulgaria              </td><td>15 Jul 2022</td><td> 10173151</td><td> 1183877</td><td>11.60</td><td> 146.00</td><td>17.0000</td></tr>\n",
       "\t<tr><th scope=row>27</th><td>Burkina Faso          </td><td>4 Mar 2021 </td><td>   158777</td><td>   12123</td><td> 7.60</td><td>   0.76</td><td> 0.0580</td></tr>\n",
       "\t<tr><th scope=row>28</th><td>Burundi               </td><td>5 Jan 2021 </td><td>    90019</td><td>     884</td><td> 0.98</td><td>   0.76</td><td> 0.0074</td></tr>\n",
       "\t<tr><th scope=row>29</th><td>Cambodia              </td><td>1 Aug 2021 </td><td>  1812706</td><td>   77914</td><td> 4.30</td><td>  11.20</td><td> 0.4800</td></tr>\n",
       "\t<tr><th scope=row>30</th><td>Cameroon              </td><td>18 Feb 2021</td><td>   942685</td><td>   32681</td><td> 3.50</td><td>   3.60</td><td> 0.1200</td></tr>\n",
       "\t<tr><th scope=row>⋮</th><td>⋮</td><td>⋮</td><td>⋮</td><td>⋮</td><td>⋮</td><td>⋮</td><td>⋮</td></tr>\n",
       "\t<tr><th scope=row>143</th><td>Serbia              </td><td>15 Jul 2022</td><td> 10026607</td><td> 2052116</td><td>20.50</td><td> 144.0000</td><td>29.50000</td></tr>\n",
       "\t<tr><th scope=row>144</th><td>Singapore           </td><td>3 Aug 2021 </td><td> 16206203</td><td>   65315</td><td> 0.40</td><td> 284.0000</td><td> 1.10000</td></tr>\n",
       "\t<tr><th scope=row>145</th><td>Slovakia            </td><td>14 Jul 2022</td><td>  7197069</td><td> 1804534</td><td>25.10</td><td> 132.0000</td><td>33.10000</td></tr>\n",
       "\t<tr><th scope=row>146</th><td>Slovenia            </td><td>14 Jul 2022</td><td>  2692619</td><td> 1057818</td><td>39.30</td><td> 129.0000</td><td>50.50000</td></tr>\n",
       "\t<tr><th scope=row>147</th><td>South Africa        </td><td>24 May 2021</td><td> 11378282</td><td> 1637848</td><td>14.40</td><td>  19.2000</td><td> 2.80000</td></tr>\n",
       "\t<tr><th scope=row>148</th><td>South Korea         </td><td>1 Mar 2021 </td><td>  6592010</td><td>   90029</td><td> 1.40</td><td>  12.7000</td><td> 0.17000</td></tr>\n",
       "\t<tr><th scope=row>149</th><td>South Sudan         </td><td>26 May 2021</td><td>   164472</td><td>   10688</td><td> 6.50</td><td>   1.3000</td><td> 0.08400</td></tr>\n",
       "\t<tr><th scope=row>150</th><td>Spain               </td><td>1 Jul 2021 </td><td> 54128524</td><td> 3821305</td><td> 7.10</td><td> 116.0000</td><td> 8.20000</td></tr>\n",
       "\t<tr><th scope=row>151</th><td>Sri Lanka           </td><td>30 Mar 2021</td><td>  2384745</td><td>   93128</td><td> 3.90</td><td>  10.9000</td><td> 0.43000</td></tr>\n",
       "\t<tr><th scope=row>152</th><td>Sudan               </td><td>7 Jan 2021 </td><td>   158804</td><td>   23316</td><td>14.70</td><td>   0.3600</td><td> 0.05300</td></tr>\n",
       "\t<tr><th scope=row>153</th><td>Sweden              </td><td>24 May 2021</td><td>  9996795</td><td> 1074751</td><td>10.80</td><td>  96.8000</td><td>10.40000</td></tr>\n",
       "\t<tr><th scope=row>154</th><td>Switzerland[l]      </td><td>5 Jul 2022 </td><td> 21954619</td><td> 3805763</td><td>17.30</td><td> 255.0000</td><td>44.20000</td></tr>\n",
       "\t<tr><th scope=row>155</th><td>Taiwan[m]           </td><td>11 Jul 2022</td><td> 21732557</td><td> 4101156</td><td>18.87</td><td>  92.1000</td><td>17.37500</td></tr>\n",
       "\t<tr><th scope=row>156</th><td>Tanzania            </td><td>18 Nov 2020</td><td>     3880</td><td>     509</td><td>13.10</td><td>   0.0065</td><td> 0.00085</td></tr>\n",
       "\t<tr><th scope=row>157</th><td>Thailand            </td><td>4 Mar 2021 </td><td>  1579597</td><td>   26162</td><td> 1.70</td><td>   2.3000</td><td> 0.03800</td></tr>\n",
       "\t<tr><th scope=row>158</th><td>Togo                </td><td>15 Jul 2022</td><td>   761320</td><td>   37776</td><td> 5.00</td><td>   8.8000</td><td> 0.44000</td></tr>\n",
       "\t<tr><th scope=row>159</th><td>Trinidad and Tobago </td><td>3 Jan 2022 </td><td>   512730</td><td>   92997</td><td>18.10</td><td>  37.6000</td><td> 6.80000</td></tr>\n",
       "\t<tr><th scope=row>160</th><td>Tunisia             </td><td>23 Aug 2021</td><td>  2893625</td><td>  703732</td><td>24.30</td><td>  24.5000</td><td> 6.00000</td></tr>\n",
       "\t<tr><th scope=row>161</th><td>Turkey              </td><td>2 Jul 2021 </td><td> 61236294</td><td> 5435831</td><td> 8.90</td><td>  73.6000</td><td> 6.50000</td></tr>\n",
       "\t<tr><th scope=row>162</th><td>Uganda              </td><td>11 Feb 2021</td><td>   852444</td><td>   39979</td><td> 4.70</td><td>   1.9000</td><td> 0.08700</td></tr>\n",
       "\t<tr><th scope=row>163</th><td>Ukraine             </td><td>24 Nov 2021</td><td> 15648456</td><td> 3367461</td><td>21.50</td><td>  37.2000</td><td> 8.00000</td></tr>\n",
       "\t<tr><th scope=row>164</th><td>United Arab Emirates</td><td>15 Jul 2022</td><td>173570214</td><td>  970586</td><td> 0.56</td><td>1808.0000</td><td>10.10000</td></tr>\n",
       "\t<tr><th scope=row>165</th><td>United Kingdom      </td><td>19 May 2022</td><td>522526476</td><td>22232377</td><td> 4.30</td><td> 774.0000</td><td>32.90000</td></tr>\n",
       "\t<tr><th scope=row>166</th><td>United States       </td><td>8 Jul 2022 </td><td>916128298</td><td>88056795</td><td> 9.60</td><td> 277.0000</td><td>26.60000</td></tr>\n",
       "\t<tr><th scope=row>167</th><td>Uruguay             </td><td>16 Apr 2022</td><td>  6089116</td><td>  895592</td><td>14.70</td><td> 175.0000</td><td>25.80000</td></tr>\n",
       "\t<tr><th scope=row>168</th><td>Uzbekistan          </td><td>7 Sep 2020 </td><td>  2630000</td><td>   43975</td><td> 1.70</td><td>   7.7000</td><td> 0.13000</td></tr>\n",
       "\t<tr><th scope=row>169</th><td>Venezuela           </td><td>30 Mar 2021</td><td>  3179074</td><td>  159149</td><td> 5.00</td><td>  11.0000</td><td> 0.55000</td></tr>\n",
       "\t<tr><th scope=row>170</th><td>Vietnam             </td><td>19 Jun 2022</td><td> 45253655</td><td>10737646</td><td>23.70</td><td>  45.8000</td><td>10.90000</td></tr>\n",
       "\t<tr><th scope=row>171</th><td>Zambia              </td><td>10 Mar 2022</td><td>  3301860</td><td>  314850</td><td> 9.50</td><td>  19.0000</td><td> 1.80000</td></tr>\n",
       "\t<tr><th scope=row>172</th><td>Zimbabwe            </td><td>14 Jul 2022</td><td>  2424666</td><td>  256083</td><td>10.60</td><td>  16.3000</td><td> 1.70000</td></tr>\n",
       "</tbody>\n",
       "</table>\n"
      ],
      "text/latex": [
       "A data.frame: 172 × 7\n",
       "\\begin{tabular}{r|lllllll}\n",
       "  & country & date & tested & confirmed & confirmed.tested.ratio & tested.population.ratio & confirmed.population.ratio\\\\\n",
       "  & <fct> & <fct> & <dbl> & <dbl> & <dbl> & <dbl> & <dbl>\\\\\n",
       "\\hline\n",
       "\t1 & Afghanistan            & 17 Dec 2020 &    154767 &    49621 & 32.10 &    0.40 &  0.1300\\\\\n",
       "\t2 & Albania                & 18 Feb 2021 &    428654 &    96838 & 22.60 &   15.00 &  3.4000\\\\\n",
       "\t3 & Algeria                & 2 Nov 2020  &    230553 &    58574 & 25.40 &    0.53 &  0.1300\\\\\n",
       "\t4 & Andorra                & 23 Feb 2022 &    300307 &    37958 & 12.60 &  387.00 & 49.0000\\\\\n",
       "\t5 & Angola                 & 2 Feb 2021  &    399228 &    20981 &  5.30 &    1.30 &  0.0670\\\\\n",
       "\t6 & Antigua and Barbuda    & 6 Mar 2021  &     15268 &      832 &  5.40 &   15.90 &  0.8600\\\\\n",
       "\t7 & Argentina              & 16 Apr 2022 &  35716069 &  9060495 & 25.40 &   78.30 & 20.0000\\\\\n",
       "\t8 & Armenia                & 29 May 2022 &   3099602 &   422963 & 13.60 &  105.00 & 14.3000\\\\\n",
       "\t9 & Australia              & 15 Jul 2022 &  74999209 &  8687125 & 11.60 &  299.00 & 34.6000\\\\\n",
       "\t10 & Austria                & 15 Jul 2022 & 191905533 &  4632173 &  2.40 & 2156.00 & 52.0000\\\\\n",
       "\t11 & Azerbaijan             & 11 May 2022 &   6838458 &   792638 & 11.60 &   69.10 &  8.0000\\\\\n",
       "\t12 & Bahamas                & 11 Jul 2022 &    243530 &    36299 & 14.90 &   63.20 &  9.4000\\\\\n",
       "\t13 & Bahrain                & 12 Jul 2022 &  10086686 &   641978 &  6.40 &  643.00 & 40.9000\\\\\n",
       "\t14 & Bangladesh             & 24 Jul 2021 &   7417714 &  1151644 & 15.50 &    4.50 &  0.7000\\\\\n",
       "\t15 & Barbados               & 12 Jul 2022 &    713255 &    86691 & 12.20 &  248.00 & 30.2000\\\\\n",
       "\t16 & Belarus                & 9 May 2022  &  13217569 &   982809 &  7.40 &  139.00 & 10.4000\\\\\n",
       "\t17 & Belgium                & 14 Jul 2022 &  34784155 &  4349050 & 12.50 &  302.00 & 37.8000\\\\\n",
       "\t18 & Belize                 & 8 Jun 2022  &    572900 &    60694 & 10.60 &  140.00 & 14.9000\\\\\n",
       "\t19 & Benin                  & 4 May 2021  &    595112 &     7884 &  1.30 &    5.10 &  0.0670\\\\\n",
       "\t20 & Bhutan                 & 28 Feb 2022 &   1736168 &    12702 &  0.73 &  234.00 &  1.7100\\\\\n",
       "\t21 & Bolivia                & 5 Jun 2022  &   4358669 &   910228 & 20.90 &   38.10 &  8.0000\\\\\n",
       "\t22 & Bosnia and Herzegovina & 13 Jul 2022 &   1799158 &   380211 & 21.10 &   52.60 & 11.1000\\\\\n",
       "\t23 & Botswana               & 11 Jan 2022 &   2026898 &   232432 & 11.50 &   89.90 & 10.3000\\\\\n",
       "\t24 & Brazil                 & 19 Feb 2021 &  23561497 & 10081676 & 42.80 &   11.20 &  4.8000\\\\\n",
       "\t25 & Brunei                 & 2 Aug 2021  &    153804 &      338 &  0.22 &   33.50 &  0.0740\\\\\n",
       "\t26 & Bulgaria               & 15 Jul 2022 &  10173151 &  1183877 & 11.60 &  146.00 & 17.0000\\\\\n",
       "\t27 & Burkina Faso           & 4 Mar 2021  &    158777 &    12123 &  7.60 &    0.76 &  0.0580\\\\\n",
       "\t28 & Burundi                & 5 Jan 2021  &     90019 &      884 &  0.98 &    0.76 &  0.0074\\\\\n",
       "\t29 & Cambodia               & 1 Aug 2021  &   1812706 &    77914 &  4.30 &   11.20 &  0.4800\\\\\n",
       "\t30 & Cameroon               & 18 Feb 2021 &    942685 &    32681 &  3.50 &    3.60 &  0.1200\\\\\n",
       "\t⋮ & ⋮ & ⋮ & ⋮ & ⋮ & ⋮ & ⋮ & ⋮\\\\\n",
       "\t143 & Serbia               & 15 Jul 2022 &  10026607 &  2052116 & 20.50 &  144.0000 & 29.50000\\\\\n",
       "\t144 & Singapore            & 3 Aug 2021  &  16206203 &    65315 &  0.40 &  284.0000 &  1.10000\\\\\n",
       "\t145 & Slovakia             & 14 Jul 2022 &   7197069 &  1804534 & 25.10 &  132.0000 & 33.10000\\\\\n",
       "\t146 & Slovenia             & 14 Jul 2022 &   2692619 &  1057818 & 39.30 &  129.0000 & 50.50000\\\\\n",
       "\t147 & South Africa         & 24 May 2021 &  11378282 &  1637848 & 14.40 &   19.2000 &  2.80000\\\\\n",
       "\t148 & South Korea          & 1 Mar 2021  &   6592010 &    90029 &  1.40 &   12.7000 &  0.17000\\\\\n",
       "\t149 & South Sudan          & 26 May 2021 &    164472 &    10688 &  6.50 &    1.3000 &  0.08400\\\\\n",
       "\t150 & Spain                & 1 Jul 2021  &  54128524 &  3821305 &  7.10 &  116.0000 &  8.20000\\\\\n",
       "\t151 & Sri Lanka            & 30 Mar 2021 &   2384745 &    93128 &  3.90 &   10.9000 &  0.43000\\\\\n",
       "\t152 & Sudan                & 7 Jan 2021  &    158804 &    23316 & 14.70 &    0.3600 &  0.05300\\\\\n",
       "\t153 & Sweden               & 24 May 2021 &   9996795 &  1074751 & 10.80 &   96.8000 & 10.40000\\\\\n",
       "\t154 & Switzerland{[}l{]}       & 5 Jul 2022  &  21954619 &  3805763 & 17.30 &  255.0000 & 44.20000\\\\\n",
       "\t155 & Taiwan{[}m{]}            & 11 Jul 2022 &  21732557 &  4101156 & 18.87 &   92.1000 & 17.37500\\\\\n",
       "\t156 & Tanzania             & 18 Nov 2020 &      3880 &      509 & 13.10 &    0.0065 &  0.00085\\\\\n",
       "\t157 & Thailand             & 4 Mar 2021  &   1579597 &    26162 &  1.70 &    2.3000 &  0.03800\\\\\n",
       "\t158 & Togo                 & 15 Jul 2022 &    761320 &    37776 &  5.00 &    8.8000 &  0.44000\\\\\n",
       "\t159 & Trinidad and Tobago  & 3 Jan 2022  &    512730 &    92997 & 18.10 &   37.6000 &  6.80000\\\\\n",
       "\t160 & Tunisia              & 23 Aug 2021 &   2893625 &   703732 & 24.30 &   24.5000 &  6.00000\\\\\n",
       "\t161 & Turkey               & 2 Jul 2021  &  61236294 &  5435831 &  8.90 &   73.6000 &  6.50000\\\\\n",
       "\t162 & Uganda               & 11 Feb 2021 &    852444 &    39979 &  4.70 &    1.9000 &  0.08700\\\\\n",
       "\t163 & Ukraine              & 24 Nov 2021 &  15648456 &  3367461 & 21.50 &   37.2000 &  8.00000\\\\\n",
       "\t164 & United Arab Emirates & 15 Jul 2022 & 173570214 &   970586 &  0.56 & 1808.0000 & 10.10000\\\\\n",
       "\t165 & United Kingdom       & 19 May 2022 & 522526476 & 22232377 &  4.30 &  774.0000 & 32.90000\\\\\n",
       "\t166 & United States        & 8 Jul 2022  & 916128298 & 88056795 &  9.60 &  277.0000 & 26.60000\\\\\n",
       "\t167 & Uruguay              & 16 Apr 2022 &   6089116 &   895592 & 14.70 &  175.0000 & 25.80000\\\\\n",
       "\t168 & Uzbekistan           & 7 Sep 2020  &   2630000 &    43975 &  1.70 &    7.7000 &  0.13000\\\\\n",
       "\t169 & Venezuela            & 30 Mar 2021 &   3179074 &   159149 &  5.00 &   11.0000 &  0.55000\\\\\n",
       "\t170 & Vietnam              & 19 Jun 2022 &  45253655 & 10737646 & 23.70 &   45.8000 & 10.90000\\\\\n",
       "\t171 & Zambia               & 10 Mar 2022 &   3301860 &   314850 &  9.50 &   19.0000 &  1.80000\\\\\n",
       "\t172 & Zimbabwe             & 14 Jul 2022 &   2424666 &   256083 & 10.60 &   16.3000 &  1.70000\\\\\n",
       "\\end{tabular}\n"
      ],
      "text/markdown": [
       "\n",
       "A data.frame: 172 × 7\n",
       "\n",
       "| <!--/--> | country &lt;fct&gt; | date &lt;fct&gt; | tested &lt;dbl&gt; | confirmed &lt;dbl&gt; | confirmed.tested.ratio &lt;dbl&gt; | tested.population.ratio &lt;dbl&gt; | confirmed.population.ratio &lt;dbl&gt; |\n",
       "|---|---|---|---|---|---|---|---|\n",
       "| 1 | Afghanistan            | 17 Dec 2020 |    154767 |    49621 | 32.10 |    0.40 |  0.1300 |\n",
       "| 2 | Albania                | 18 Feb 2021 |    428654 |    96838 | 22.60 |   15.00 |  3.4000 |\n",
       "| 3 | Algeria                | 2 Nov 2020  |    230553 |    58574 | 25.40 |    0.53 |  0.1300 |\n",
       "| 4 | Andorra                | 23 Feb 2022 |    300307 |    37958 | 12.60 |  387.00 | 49.0000 |\n",
       "| 5 | Angola                 | 2 Feb 2021  |    399228 |    20981 |  5.30 |    1.30 |  0.0670 |\n",
       "| 6 | Antigua and Barbuda    | 6 Mar 2021  |     15268 |      832 |  5.40 |   15.90 |  0.8600 |\n",
       "| 7 | Argentina              | 16 Apr 2022 |  35716069 |  9060495 | 25.40 |   78.30 | 20.0000 |\n",
       "| 8 | Armenia                | 29 May 2022 |   3099602 |   422963 | 13.60 |  105.00 | 14.3000 |\n",
       "| 9 | Australia              | 15 Jul 2022 |  74999209 |  8687125 | 11.60 |  299.00 | 34.6000 |\n",
       "| 10 | Austria                | 15 Jul 2022 | 191905533 |  4632173 |  2.40 | 2156.00 | 52.0000 |\n",
       "| 11 | Azerbaijan             | 11 May 2022 |   6838458 |   792638 | 11.60 |   69.10 |  8.0000 |\n",
       "| 12 | Bahamas                | 11 Jul 2022 |    243530 |    36299 | 14.90 |   63.20 |  9.4000 |\n",
       "| 13 | Bahrain                | 12 Jul 2022 |  10086686 |   641978 |  6.40 |  643.00 | 40.9000 |\n",
       "| 14 | Bangladesh             | 24 Jul 2021 |   7417714 |  1151644 | 15.50 |    4.50 |  0.7000 |\n",
       "| 15 | Barbados               | 12 Jul 2022 |    713255 |    86691 | 12.20 |  248.00 | 30.2000 |\n",
       "| 16 | Belarus                | 9 May 2022  |  13217569 |   982809 |  7.40 |  139.00 | 10.4000 |\n",
       "| 17 | Belgium                | 14 Jul 2022 |  34784155 |  4349050 | 12.50 |  302.00 | 37.8000 |\n",
       "| 18 | Belize                 | 8 Jun 2022  |    572900 |    60694 | 10.60 |  140.00 | 14.9000 |\n",
       "| 19 | Benin                  | 4 May 2021  |    595112 |     7884 |  1.30 |    5.10 |  0.0670 |\n",
       "| 20 | Bhutan                 | 28 Feb 2022 |   1736168 |    12702 |  0.73 |  234.00 |  1.7100 |\n",
       "| 21 | Bolivia                | 5 Jun 2022  |   4358669 |   910228 | 20.90 |   38.10 |  8.0000 |\n",
       "| 22 | Bosnia and Herzegovina | 13 Jul 2022 |   1799158 |   380211 | 21.10 |   52.60 | 11.1000 |\n",
       "| 23 | Botswana               | 11 Jan 2022 |   2026898 |   232432 | 11.50 |   89.90 | 10.3000 |\n",
       "| 24 | Brazil                 | 19 Feb 2021 |  23561497 | 10081676 | 42.80 |   11.20 |  4.8000 |\n",
       "| 25 | Brunei                 | 2 Aug 2021  |    153804 |      338 |  0.22 |   33.50 |  0.0740 |\n",
       "| 26 | Bulgaria               | 15 Jul 2022 |  10173151 |  1183877 | 11.60 |  146.00 | 17.0000 |\n",
       "| 27 | Burkina Faso           | 4 Mar 2021  |    158777 |    12123 |  7.60 |    0.76 |  0.0580 |\n",
       "| 28 | Burundi                | 5 Jan 2021  |     90019 |      884 |  0.98 |    0.76 |  0.0074 |\n",
       "| 29 | Cambodia               | 1 Aug 2021  |   1812706 |    77914 |  4.30 |   11.20 |  0.4800 |\n",
       "| 30 | Cameroon               | 18 Feb 2021 |    942685 |    32681 |  3.50 |    3.60 |  0.1200 |\n",
       "| ⋮ | ⋮ | ⋮ | ⋮ | ⋮ | ⋮ | ⋮ | ⋮ |\n",
       "| 143 | Serbia               | 15 Jul 2022 |  10026607 |  2052116 | 20.50 |  144.0000 | 29.50000 |\n",
       "| 144 | Singapore            | 3 Aug 2021  |  16206203 |    65315 |  0.40 |  284.0000 |  1.10000 |\n",
       "| 145 | Slovakia             | 14 Jul 2022 |   7197069 |  1804534 | 25.10 |  132.0000 | 33.10000 |\n",
       "| 146 | Slovenia             | 14 Jul 2022 |   2692619 |  1057818 | 39.30 |  129.0000 | 50.50000 |\n",
       "| 147 | South Africa         | 24 May 2021 |  11378282 |  1637848 | 14.40 |   19.2000 |  2.80000 |\n",
       "| 148 | South Korea          | 1 Mar 2021  |   6592010 |    90029 |  1.40 |   12.7000 |  0.17000 |\n",
       "| 149 | South Sudan          | 26 May 2021 |    164472 |    10688 |  6.50 |    1.3000 |  0.08400 |\n",
       "| 150 | Spain                | 1 Jul 2021  |  54128524 |  3821305 |  7.10 |  116.0000 |  8.20000 |\n",
       "| 151 | Sri Lanka            | 30 Mar 2021 |   2384745 |    93128 |  3.90 |   10.9000 |  0.43000 |\n",
       "| 152 | Sudan                | 7 Jan 2021  |    158804 |    23316 | 14.70 |    0.3600 |  0.05300 |\n",
       "| 153 | Sweden               | 24 May 2021 |   9996795 |  1074751 | 10.80 |   96.8000 | 10.40000 |\n",
       "| 154 | Switzerland[l]       | 5 Jul 2022  |  21954619 |  3805763 | 17.30 |  255.0000 | 44.20000 |\n",
       "| 155 | Taiwan[m]            | 11 Jul 2022 |  21732557 |  4101156 | 18.87 |   92.1000 | 17.37500 |\n",
       "| 156 | Tanzania             | 18 Nov 2020 |      3880 |      509 | 13.10 |    0.0065 |  0.00085 |\n",
       "| 157 | Thailand             | 4 Mar 2021  |   1579597 |    26162 |  1.70 |    2.3000 |  0.03800 |\n",
       "| 158 | Togo                 | 15 Jul 2022 |    761320 |    37776 |  5.00 |    8.8000 |  0.44000 |\n",
       "| 159 | Trinidad and Tobago  | 3 Jan 2022  |    512730 |    92997 | 18.10 |   37.6000 |  6.80000 |\n",
       "| 160 | Tunisia              | 23 Aug 2021 |   2893625 |   703732 | 24.30 |   24.5000 |  6.00000 |\n",
       "| 161 | Turkey               | 2 Jul 2021  |  61236294 |  5435831 |  8.90 |   73.6000 |  6.50000 |\n",
       "| 162 | Uganda               | 11 Feb 2021 |    852444 |    39979 |  4.70 |    1.9000 |  0.08700 |\n",
       "| 163 | Ukraine              | 24 Nov 2021 |  15648456 |  3367461 | 21.50 |   37.2000 |  8.00000 |\n",
       "| 164 | United Arab Emirates | 15 Jul 2022 | 173570214 |   970586 |  0.56 | 1808.0000 | 10.10000 |\n",
       "| 165 | United Kingdom       | 19 May 2022 | 522526476 | 22232377 |  4.30 |  774.0000 | 32.90000 |\n",
       "| 166 | United States        | 8 Jul 2022  | 916128298 | 88056795 |  9.60 |  277.0000 | 26.60000 |\n",
       "| 167 | Uruguay              | 16 Apr 2022 |   6089116 |   895592 | 14.70 |  175.0000 | 25.80000 |\n",
       "| 168 | Uzbekistan           | 7 Sep 2020  |   2630000 |    43975 |  1.70 |    7.7000 |  0.13000 |\n",
       "| 169 | Venezuela            | 30 Mar 2021 |   3179074 |   159149 |  5.00 |   11.0000 |  0.55000 |\n",
       "| 170 | Vietnam              | 19 Jun 2022 |  45253655 | 10737646 | 23.70 |   45.8000 | 10.90000 |\n",
       "| 171 | Zambia               | 10 Mar 2022 |   3301860 |   314850 |  9.50 |   19.0000 |  1.80000 |\n",
       "| 172 | Zimbabwe             | 14 Jul 2022 |   2424666 |   256083 | 10.60 |   16.3000 |  1.70000 |\n",
       "\n"
      ],
      "text/plain": [
       "    country                date        tested    confirmed\n",
       "1   Afghanistan            17 Dec 2020    154767    49621 \n",
       "2   Albania                18 Feb 2021    428654    96838 \n",
       "3   Algeria                2 Nov 2020     230553    58574 \n",
       "4   Andorra                23 Feb 2022    300307    37958 \n",
       "5   Angola                 2 Feb 2021     399228    20981 \n",
       "6   Antigua and Barbuda    6 Mar 2021      15268      832 \n",
       "7   Argentina              16 Apr 2022  35716069  9060495 \n",
       "8   Armenia                29 May 2022   3099602   422963 \n",
       "9   Australia              15 Jul 2022  74999209  8687125 \n",
       "10  Austria                15 Jul 2022 191905533  4632173 \n",
       "11  Azerbaijan             11 May 2022   6838458   792638 \n",
       "12  Bahamas                11 Jul 2022    243530    36299 \n",
       "13  Bahrain                12 Jul 2022  10086686   641978 \n",
       "14  Bangladesh             24 Jul 2021   7417714  1151644 \n",
       "15  Barbados               12 Jul 2022    713255    86691 \n",
       "16  Belarus                9 May 2022   13217569   982809 \n",
       "17  Belgium                14 Jul 2022  34784155  4349050 \n",
       "18  Belize                 8 Jun 2022     572900    60694 \n",
       "19  Benin                  4 May 2021     595112     7884 \n",
       "20  Bhutan                 28 Feb 2022   1736168    12702 \n",
       "21  Bolivia                5 Jun 2022    4358669   910228 \n",
       "22  Bosnia and Herzegovina 13 Jul 2022   1799158   380211 \n",
       "23  Botswana               11 Jan 2022   2026898   232432 \n",
       "24  Brazil                 19 Feb 2021  23561497 10081676 \n",
       "25  Brunei                 2 Aug 2021     153804      338 \n",
       "26  Bulgaria               15 Jul 2022  10173151  1183877 \n",
       "27  Burkina Faso           4 Mar 2021     158777    12123 \n",
       "28  Burundi                5 Jan 2021      90019      884 \n",
       "29  Cambodia               1 Aug 2021    1812706    77914 \n",
       "30  Cameroon               18 Feb 2021    942685    32681 \n",
       "⋮   ⋮                      ⋮           ⋮         ⋮        \n",
       "143 Serbia                 15 Jul 2022  10026607  2052116 \n",
       "144 Singapore              3 Aug 2021   16206203    65315 \n",
       "145 Slovakia               14 Jul 2022   7197069  1804534 \n",
       "146 Slovenia               14 Jul 2022   2692619  1057818 \n",
       "147 South Africa           24 May 2021  11378282  1637848 \n",
       "148 South Korea            1 Mar 2021    6592010    90029 \n",
       "149 South Sudan            26 May 2021    164472    10688 \n",
       "150 Spain                  1 Jul 2021   54128524  3821305 \n",
       "151 Sri Lanka              30 Mar 2021   2384745    93128 \n",
       "152 Sudan                  7 Jan 2021     158804    23316 \n",
       "153 Sweden                 24 May 2021   9996795  1074751 \n",
       "154 Switzerland[l]         5 Jul 2022   21954619  3805763 \n",
       "155 Taiwan[m]              11 Jul 2022  21732557  4101156 \n",
       "156 Tanzania               18 Nov 2020      3880      509 \n",
       "157 Thailand               4 Mar 2021    1579597    26162 \n",
       "158 Togo                   15 Jul 2022    761320    37776 \n",
       "159 Trinidad and Tobago    3 Jan 2022     512730    92997 \n",
       "160 Tunisia                23 Aug 2021   2893625   703732 \n",
       "161 Turkey                 2 Jul 2021   61236294  5435831 \n",
       "162 Uganda                 11 Feb 2021    852444    39979 \n",
       "163 Ukraine                24 Nov 2021  15648456  3367461 \n",
       "164 United Arab Emirates   15 Jul 2022 173570214   970586 \n",
       "165 United Kingdom         19 May 2022 522526476 22232377 \n",
       "166 United States          8 Jul 2022  916128298 88056795 \n",
       "167 Uruguay                16 Apr 2022   6089116   895592 \n",
       "168 Uzbekistan             7 Sep 2020    2630000    43975 \n",
       "169 Venezuela              30 Mar 2021   3179074   159149 \n",
       "170 Vietnam                19 Jun 2022  45253655 10737646 \n",
       "171 Zambia                 10 Mar 2022   3301860   314850 \n",
       "172 Zimbabwe               14 Jul 2022   2424666   256083 \n",
       "    confirmed.tested.ratio tested.population.ratio confirmed.population.ratio\n",
       "1   32.10                     0.40                  0.1300                   \n",
       "2   22.60                    15.00                  3.4000                   \n",
       "3   25.40                     0.53                  0.1300                   \n",
       "4   12.60                   387.00                 49.0000                   \n",
       "5    5.30                     1.30                  0.0670                   \n",
       "6    5.40                    15.90                  0.8600                   \n",
       "7   25.40                    78.30                 20.0000                   \n",
       "8   13.60                   105.00                 14.3000                   \n",
       "9   11.60                   299.00                 34.6000                   \n",
       "10   2.40                  2156.00                 52.0000                   \n",
       "11  11.60                    69.10                  8.0000                   \n",
       "12  14.90                    63.20                  9.4000                   \n",
       "13   6.40                   643.00                 40.9000                   \n",
       "14  15.50                     4.50                  0.7000                   \n",
       "15  12.20                   248.00                 30.2000                   \n",
       "16   7.40                   139.00                 10.4000                   \n",
       "17  12.50                   302.00                 37.8000                   \n",
       "18  10.60                   140.00                 14.9000                   \n",
       "19   1.30                     5.10                  0.0670                   \n",
       "20   0.73                   234.00                  1.7100                   \n",
       "21  20.90                    38.10                  8.0000                   \n",
       "22  21.10                    52.60                 11.1000                   \n",
       "23  11.50                    89.90                 10.3000                   \n",
       "24  42.80                    11.20                  4.8000                   \n",
       "25   0.22                    33.50                  0.0740                   \n",
       "26  11.60                   146.00                 17.0000                   \n",
       "27   7.60                     0.76                  0.0580                   \n",
       "28   0.98                     0.76                  0.0074                   \n",
       "29   4.30                    11.20                  0.4800                   \n",
       "30   3.50                     3.60                  0.1200                   \n",
       "⋮   ⋮                      ⋮                       ⋮                         \n",
       "143 20.50                   144.0000               29.50000                  \n",
       "144  0.40                   284.0000                1.10000                  \n",
       "145 25.10                   132.0000               33.10000                  \n",
       "146 39.30                   129.0000               50.50000                  \n",
       "147 14.40                    19.2000                2.80000                  \n",
       "148  1.40                    12.7000                0.17000                  \n",
       "149  6.50                     1.3000                0.08400                  \n",
       "150  7.10                   116.0000                8.20000                  \n",
       "151  3.90                    10.9000                0.43000                  \n",
       "152 14.70                     0.3600                0.05300                  \n",
       "153 10.80                    96.8000               10.40000                  \n",
       "154 17.30                   255.0000               44.20000                  \n",
       "155 18.87                    92.1000               17.37500                  \n",
       "156 13.10                     0.0065                0.00085                  \n",
       "157  1.70                     2.3000                0.03800                  \n",
       "158  5.00                     8.8000                0.44000                  \n",
       "159 18.10                    37.6000                6.80000                  \n",
       "160 24.30                    24.5000                6.00000                  \n",
       "161  8.90                    73.6000                6.50000                  \n",
       "162  4.70                     1.9000                0.08700                  \n",
       "163 21.50                    37.2000                8.00000                  \n",
       "164  0.56                  1808.0000               10.10000                  \n",
       "165  4.30                   774.0000               32.90000                  \n",
       "166  9.60                   277.0000               26.60000                  \n",
       "167 14.70                   175.0000               25.80000                  \n",
       "168  1.70                     7.7000                0.13000                  \n",
       "169  5.00                    11.0000                0.55000                  \n",
       "170 23.70                    45.8000               10.90000                  \n",
       "171  9.50                    19.0000                1.80000                  \n",
       "172 10.60                    16.3000                1.70000                  "
      ]
     },
     "metadata": {},
     "output_type": "display_data"
    }
   ],
   "source": [
    "# call `preprocess_covid_data_frame` function and assign it to a new data frame\n",
    "covid_new <- preprocess_covid_data_frame(data_frame)\n",
    "covid_new"
   ]
  },
  {
   "cell_type": "markdown",
   "metadata": {},
   "source": [
    "Get the summary of the processed data frame again\n"
   ]
  },
  {
   "cell_type": "code",
   "execution_count": 25,
   "metadata": {},
   "outputs": [
    {
     "data": {
      "text/plain": [
       "                country             date         tested         \n",
       " Afghanistan        :  1   14 Jul 2022: 12   Min.   :     3880  \n",
       " Albania            :  1   12 Jul 2022:  9   1st Qu.:   512037  \n",
       " Algeria            :  1   15 Jul 2022:  7   Median :  3029859  \n",
       " Andorra            :  1   13 Jul 2022:  5   Mean   : 30434199  \n",
       " Angola             :  1   11 Jul 2022:  4   3rd Qu.: 11797975  \n",
       " Antigua and Barbuda:  1   1 Mar 2021 :  3   Max.   :916128298  \n",
       " (Other)            :166   (Other)    :132                      \n",
       "   confirmed        confirmed.tested.ratio tested.population.ratio\n",
       " Min.   :       0   Min.   : 0.00          Min.   :   0.0065      \n",
       " 1st Qu.:   37484   1st Qu.: 5.00          1st Qu.:   9.3250      \n",
       " Median :  281196   Median :10.00          Median :  46.4000      \n",
       " Mean   : 2361836   Mean   :11.04          Mean   : 167.5147      \n",
       " 3rd Qu.: 1170078   3rd Qu.:15.18          3rd Qu.: 144.5000      \n",
       " Max.   :88056795   Max.   :42.80          Max.   :2976.0000      \n",
       "                                                                  \n",
       " confirmed.population.ratio\n",
       " Min.   : 0.000            \n",
       " 1st Qu.: 0.425            \n",
       " Median : 6.000            \n",
       " Mean   :11.704            \n",
       " 3rd Qu.:15.600            \n",
       " Max.   :65.700            \n",
       "                           "
      ]
     },
     "metadata": {},
     "output_type": "display_data"
    }
   ],
   "source": [
    "# Print the summary of the processed data frame again\n",
    "summary(covid_new)"
   ]
  },
  {
   "cell_type": "markdown",
   "metadata": {},
   "source": [
    "After pre-processing, you can see the columns and columns names are simplified, and columns types are converted into correct types.\n"
   ]
  },
  {
   "cell_type": "markdown",
   "metadata": {},
   "source": [
    "The data frame has following columns:\n",
    "\n",
    "*   **country** - The name of the country\n",
    "*   **date** - Reported date\n",
    "*   **tested** - Total tested cases by the reported date\n",
    "*   **confirmed** - Total confirmed cases by the reported date\n",
    "*   **confirmed.tested.ratio** - The ratio of confirmed cases to the tested cases\n",
    "*   **tested.population.ratio** - The ratio of tested cases to the population of the country\n",
    "*   **confirmed.population.ratio** - The ratio of confirmed cases to the population of the country\n"
   ]
  },
  {
   "cell_type": "markdown",
   "metadata": {},
   "source": [
    "OK, we can call `write.csv()` function to save the csv file into a file.\n"
   ]
  },
  {
   "cell_type": "code",
   "execution_count": 32,
   "metadata": {},
   "outputs": [],
   "source": [
    "# Export the data frame to a csv file\n",
    "write.csv(covid_new, file =\"/resources/v2/M5_Final/covid.csv\", row.names = FALSE )"
   ]
  },
  {
   "cell_type": "markdown",
   "metadata": {},
   "source": [
    "Note for IBM Waston Studio, there is no traditional \"hard disk\" associated with a R workspace.\n",
    "\n",
    "Even if you call `write.csv()` method to save the data frame as a csv file, it won't be shown in IBM Cloud Object Storage asset UI automatically.\n",
    "\n",
    "However, you may still check if the `covid.csv` exists using following code snippet:\n"
   ]
  },
  {
   "cell_type": "code",
   "execution_count": 33,
   "metadata": {},
   "outputs": [
    {
     "name": "stdout",
     "output_type": "stream",
     "text": [
      "[1] \"/resources/v2/M5_Final/covid.csv\"\n"
     ]
    },
    {
     "data": {
      "text/html": [
       "TRUE"
      ],
      "text/latex": [
       "TRUE"
      ],
      "text/markdown": [
       "TRUE"
      ],
      "text/plain": [
       "[1] TRUE"
      ]
     },
     "metadata": {},
     "output_type": "display_data"
    }
   ],
   "source": [
    "# Get working directory\n",
    "wd <- getwd()\n",
    "# Get exported \n",
    "file_path <- paste(wd, sep=\"\", \"/covid.csv\")\n",
    "# File path\n",
    "print(file_path)\n",
    "file.exists(file_path)"
   ]
  },
  {
   "cell_type": "markdown",
   "metadata": {},
   "source": [
    "**Optional Step**: If you have difficulties finishing above webscraping tasks, you may still continue with next tasks by downloading a provided csv file from here:\n"
   ]
  },
  {
   "cell_type": "code",
   "execution_count": 31,
   "metadata": {},
   "outputs": [],
   "source": [
    "## Download a sample csv file\n",
    "# covid_csv_file <- download.file(\"https://cf-courses-data.s3.us.cloud-object-storage.appdomain.cloud/IBMDeveloperSkillsNetwork-RP0101EN-Coursera/v2/dataset/covid.csv\", destfile=\"covid.csv\")\n",
    "# covid_data_frame_csv <- read.csv(\"covid.csv\", header=TRUE, sep=\",\")"
   ]
  },
  {
   "cell_type": "markdown",
   "metadata": {},
   "source": [
    "## TASK 4: Get a subset of the extracted data frame\n",
    "\n",
    "The goal of task 4 is to get the 5th to 10th rows from the data frame with only `country` and `confirmed` columns selected\n"
   ]
  },
  {
   "cell_type": "code",
   "execution_count": 35,
   "metadata": {},
   "outputs": [
    {
     "data": {
      "text/html": [
       "<table>\n",
       "<caption>A data.frame: 2 × 2</caption>\n",
       "<thead>\n",
       "\t<tr><th></th><th scope=col>country</th><th scope=col>confirmed</th></tr>\n",
       "\t<tr><th></th><th scope=col>&lt;fct&gt;</th><th scope=col>&lt;int&gt;</th></tr>\n",
       "</thead>\n",
       "<tbody>\n",
       "\t<tr><th scope=row>5</th><td>Angola </td><td>  20981</td></tr>\n",
       "\t<tr><th scope=row>10</th><td>Austria</td><td>4632173</td></tr>\n",
       "</tbody>\n",
       "</table>\n"
      ],
      "text/latex": [
       "A data.frame: 2 × 2\n",
       "\\begin{tabular}{r|ll}\n",
       "  & country & confirmed\\\\\n",
       "  & <fct> & <int>\\\\\n",
       "\\hline\n",
       "\t5 & Angola  &   20981\\\\\n",
       "\t10 & Austria & 4632173\\\\\n",
       "\\end{tabular}\n"
      ],
      "text/markdown": [
       "\n",
       "A data.frame: 2 × 2\n",
       "\n",
       "| <!--/--> | country &lt;fct&gt; | confirmed &lt;int&gt; |\n",
       "|---|---|---|\n",
       "| 5 | Angola  |   20981 |\n",
       "| 10 | Austria | 4632173 |\n",
       "\n"
      ],
      "text/plain": [
       "   country confirmed\n",
       "5  Angola    20981  \n",
       "10 Austria 4632173  "
      ]
     },
     "metadata": {},
     "output_type": "display_data"
    }
   ],
   "source": [
    "# Read covid_data_frame_csv from the csv file\n",
    "covid_data_frame_csv <- read.csv('covid.csv')\n",
    "# Get the 5th to 10th rows, with two \"country\" \"confirmed\" columns\n",
    "covid_data_frame_csv[c(5,10),c(1,4)]"
   ]
  },
  {
   "cell_type": "markdown",
   "metadata": {},
   "source": [
    "## TASK 5: Calculate worldwide COVID testing positive ratio\n",
    "\n",
    "The goal of task 5 is to get the total confirmed and tested cases worldwide, and try to figure the overall positive ratio using `confirmed cases / tested cases`\n"
   ]
  },
  {
   "cell_type": "code",
   "execution_count": 37,
   "metadata": {},
   "outputs": [
    {
     "data": {
      "text/html": [
       "0.0776046759536824"
      ],
      "text/latex": [
       "0.0776046759536824"
      ],
      "text/markdown": [
       "0.0776046759536824"
      ],
      "text/plain": [
       "[1] 0.07760468"
      ]
     },
     "metadata": {},
     "output_type": "display_data"
    }
   ],
   "source": [
    "# Get the total confirmed cases worldwide\n",
    "total_confirmed_cases <- sum(covid_data_frame_csv['confirmed'])\n",
    "# Get the total tested cases worldwide\n",
    "total_tested_cases <- sum(covid_data_frame_csv['tested'])\n",
    "# Get the positive ratio (confirmed / tested)\n",
    "positive_ratio <- total_confirmed_cases/total_tested_cases\n",
    "positive_ratio"
   ]
  },
  {
   "cell_type": "markdown",
   "metadata": {},
   "source": [
    "## TASK 6: Get a country list which reported their testing data\n",
    "\n",
    "The goal of task 6 is to get a catalog or sorted list of countries who have reported their COVID-19 testing data\n"
   ]
  },
  {
   "cell_type": "code",
   "execution_count": 39,
   "metadata": {},
   "outputs": [
    {
     "data": {
      "text/html": [
       "'factor'"
      ],
      "text/latex": [
       "'factor'"
      ],
      "text/markdown": [
       "'factor'"
      ],
      "text/plain": [
       "[1] \"factor\""
      ]
     },
     "metadata": {},
     "output_type": "display_data"
    },
    {
     "name": "stdout",
     "output_type": "stream",
     "text": [
      "  [1] \"Zimbabwe\"               \"Zambia\"                 \"Vietnam\"               \n",
      "  [4] \"Venezuela\"              \"Uzbekistan\"             \"Uruguay\"               \n",
      "  [7] \"United States\"          \"United Kingdom\"         \"United Arab Emirates\"  \n",
      " [10] \"Ukraine\"                \"Uganda\"                 \"Turkey\"                \n",
      " [13] \"Tunisia\"                \"Trinidad and Tobago\"    \"Togo\"                  \n",
      " [16] \"Thailand\"               \"Tanzania\"               \"Taiwan[m]\"             \n",
      " [19] \"Switzerland[l]\"         \"Sweden\"                 \"Sudan\"                 \n",
      " [22] \"Sri Lanka\"              \"Spain\"                  \"South Sudan\"           \n",
      " [25] \"South Korea\"            \"South Africa\"           \"Slovenia\"              \n",
      " [28] \"Slovakia\"               \"Singapore\"              \"Serbia\"                \n",
      " [31] \"Senegal\"                \"Saudi Arabia\"           \"San Marino\"            \n",
      " [34] \"Saint Vincent\"          \"Saint Lucia\"            \"Saint Kitts and Nevis\" \n",
      " [37] \"Rwanda\"                 \"Russia\"                 \"Romania\"               \n",
      " [40] \"Qatar\"                  \"Portugal\"               \"Poland\"                \n",
      " [43] \"Philippines\"            \"Peru\"                   \"Paraguay\"              \n",
      " [46] \"Papua New Guinea\"       \"Panama\"                 \"Palestine\"             \n",
      " [49] \"Pakistan\"               \"Oman\"                   \"Norway\"                \n",
      " [52] \"Northern Cyprus[k]\"     \"North Macedonia\"        \"North Korea\"           \n",
      " [55] \"Nigeria\"                \"Niger\"                  \"New Zealand\"           \n",
      " [58] \"New Caledonia\"          \"Netherlands\"            \"Nepal\"                 \n",
      " [61] \"Namibia\"                \"Myanmar\"                \"Mozambique\"            \n",
      " [64] \"Morocco\"                \"Montenegro\"             \"Mongolia\"              \n",
      " [67] \"Moldova[j]\"             \"Mexico\"                 \"Mauritius\"             \n",
      " [70] \"Mauritania\"             \"Malta\"                  \"Mali\"                  \n",
      " [73] \"Maldives\"               \"Malaysia\"               \"Malawi\"                \n",
      " [76] \"Madagascar\"             \"Luxembourg[i]\"          \"Lithuania\"             \n",
      " [79] \"Libya\"                  \"Liberia\"                \"Lesotho\"               \n",
      " [82] \"Lebanon\"                \"Latvia\"                 \"Laos\"                  \n",
      " [85] \"Kyrgyzstan\"             \"Kuwait\"                 \"Kosovo\"                \n",
      " [88] \"Kenya\"                  \"Kazakhstan\"             \"Jordan\"                \n",
      " [91] \"Japan\"                  \"Jamaica\"                \"Ivory Coast\"           \n",
      " [94] \"Italy\"                  \"Israel\"                 \"Ireland\"               \n",
      " [97] \"Iraq\"                   \"Iran\"                   \"Indonesia\"             \n",
      "[100] \"India\"                  \"Iceland\"                \"Hungary\"               \n",
      "[103] \"Honduras\"               \"Haiti\"                  \"Guyana\"                \n",
      "[106] \"Guinea-Bissau\"          \"Guinea\"                 \"Guatemala\"             \n",
      "[109] \"Grenada\"                \"Greenland\"              \"Greece\"                \n",
      "[112] \"Ghana\"                  \"Germany\"                \"Georgia[h]\"            \n",
      "[115] \"Gambia\"                 \"Gabon\"                  \"France[f][g]\"          \n",
      "[118] \"Finland\"                \"Fiji\"                   \"Faroe Islands\"         \n",
      "[121] \"Ethiopia\"               \"Eswatini\"               \"Estonia\"               \n",
      "[124] \"Equatorial Guinea\"      \"El Salvador\"            \"Egypt\"                 \n",
      "[127] \"Ecuador\"                \"DR Congo\"               \"Dominican Republic\"    \n",
      "[130] \"Dominica\"               \"Djibouti\"               \"Denmark[e]\"            \n",
      "[133] \"Czechia\"                \"Cyprus[d]\"              \"Cuba\"                  \n",
      "[136] \"Croatia\"                \"Costa Rica\"             \"Colombia\"              \n",
      "[139] \"China[c]\"               \"Chile\"                  \"Chad\"                  \n",
      "[142] \"Canada\"                 \"Cameroon\"               \"Cambodia\"              \n",
      "[145] \"Burundi\"                \"Burkina Faso\"           \"Bulgaria\"              \n",
      "[148] \"Brunei\"                 \"Brazil\"                 \"Botswana\"              \n",
      "[151] \"Bosnia and Herzegovina\" \"Bolivia\"                \"Bhutan\"                \n",
      "[154] \"Benin\"                  \"Belize\"                 \"Belgium\"               \n",
      "[157] \"Belarus\"                \"Barbados\"               \"Bangladesh\"            \n",
      "[160] \"Bahrain\"                \"Bahamas\"                \"Azerbaijan\"            \n",
      "[163] \"Austria\"                \"Australia\"              \"Armenia\"               \n",
      "[166] \"Argentina\"              \"Antigua and Barbuda\"    \"Angola\"                \n",
      "[169] \"Andorra\"                \"Algeria\"                \"Albania\"               \n",
      "[172] \"Afghanistan\"           \n"
     ]
    }
   ],
   "source": [
    "# Get the `country` column\n",
    "country <- covid_data_frame_csv['country']\n",
    "# Check its class (should be Factor)\n",
    "class(covid_data_frame_csv$country)\n",
    "# Conver the country column into character so that you can easily sort them\n",
    "country_ <- as.character(covid_data_frame_csv$country)\n",
    "# Sort the countries AtoZ\n",
    "sortA <- sort(country_)\n",
    "# Sort the countries ZtoA\n",
    "sortB <- sort(country_, decreasing = TRUE)\n",
    "# Print the sorted ZtoA list\n",
    "print(sortB)"
   ]
  },
  {
   "cell_type": "markdown",
   "metadata": {},
   "source": [
    "## TASK 7: Identify countries names with a specific pattern\n",
    "\n",
    "The goal of task 7 is using a regular expression to find any countires start with `United`\n"
   ]
  },
  {
   "cell_type": "code",
   "execution_count": 40,
   "metadata": {},
   "outputs": [
    {
     "name": "stdout",
     "output_type": "stream",
     "text": [
      "[1] \"United Arab Emirates\" \"United Kingdom\"       \"United States\"       \n"
     ]
    }
   ],
   "source": [
    "# Use a regular expression `United.+` to find matches\n",
    "matches <- regexpr('United.+', covid_data_frame_csv[,'country'])\n",
    "# Print the matched country names\n",
    "print(regmatches(covid_data_frame_csv[,'country'], matches))"
   ]
  },
  {
   "cell_type": "markdown",
   "metadata": {},
   "source": [
    "## TASK 8: Pick two countries you are interested, and then review their testing data\n",
    "\n",
    "The goal of task 8 is to compare the COVID-19 test data between two countires, you will need to select two rows from the dataframe, and select `country`, `confirmed`, `confirmed-population-ratio` columns\n"
   ]
  },
  {
   "cell_type": "code",
   "execution_count": 42,
   "metadata": {},
   "outputs": [
    {
     "data": {
      "text/html": [
       "<table>\n",
       "<caption>A data.frame: 1 × 3</caption>\n",
       "<thead>\n",
       "\t<tr><th></th><th scope=col>country</th><th scope=col>confirmed</th><th scope=col>confirmed.population.ratio</th></tr>\n",
       "\t<tr><th></th><th scope=col>&lt;fct&gt;</th><th scope=col>&lt;int&gt;</th><th scope=col>&lt;dbl&gt;</th></tr>\n",
       "</thead>\n",
       "<tbody>\n",
       "\t<tr><th scope=row>13</th><td>Bahrain</td><td>641978</td><td>40.9</td></tr>\n",
       "</tbody>\n",
       "</table>\n"
      ],
      "text/latex": [
       "A data.frame: 1 × 3\n",
       "\\begin{tabular}{r|lll}\n",
       "  & country & confirmed & confirmed.population.ratio\\\\\n",
       "  & <fct> & <int> & <dbl>\\\\\n",
       "\\hline\n",
       "\t13 & Bahrain & 641978 & 40.9\\\\\n",
       "\\end{tabular}\n"
      ],
      "text/markdown": [
       "\n",
       "A data.frame: 1 × 3\n",
       "\n",
       "| <!--/--> | country &lt;fct&gt; | confirmed &lt;int&gt; | confirmed.population.ratio &lt;dbl&gt; |\n",
       "|---|---|---|---|\n",
       "| 13 | Bahrain | 641978 | 40.9 |\n",
       "\n"
      ],
      "text/plain": [
       "   country confirmed confirmed.population.ratio\n",
       "13 Bahrain 641978    40.9                      "
      ]
     },
     "metadata": {},
     "output_type": "display_data"
    },
    {
     "data": {
      "text/html": [
       "<table>\n",
       "<caption>A data.frame: 1 × 3</caption>\n",
       "<thead>\n",
       "\t<tr><th></th><th scope=col>country</th><th scope=col>confirmed</th><th scope=col>confirmed.population.ratio</th></tr>\n",
       "\t<tr><th></th><th scope=col>&lt;fct&gt;</th><th scope=col>&lt;int&gt;</th><th scope=col>&lt;dbl&gt;</th></tr>\n",
       "</thead>\n",
       "<tbody>\n",
       "\t<tr><th scope=row>33</th><td>Chile</td><td>4122401</td><td>21.6</td></tr>\n",
       "</tbody>\n",
       "</table>\n"
      ],
      "text/latex": [
       "A data.frame: 1 × 3\n",
       "\\begin{tabular}{r|lll}\n",
       "  & country & confirmed & confirmed.population.ratio\\\\\n",
       "  & <fct> & <int> & <dbl>\\\\\n",
       "\\hline\n",
       "\t33 & Chile & 4122401 & 21.6\\\\\n",
       "\\end{tabular}\n"
      ],
      "text/markdown": [
       "\n",
       "A data.frame: 1 × 3\n",
       "\n",
       "| <!--/--> | country &lt;fct&gt; | confirmed &lt;int&gt; | confirmed.population.ratio &lt;dbl&gt; |\n",
       "|---|---|---|---|\n",
       "| 33 | Chile | 4122401 | 21.6 |\n",
       "\n"
      ],
      "text/plain": [
       "   country confirmed confirmed.population.ratio\n",
       "33 Chile   4122401   21.6                      "
      ]
     },
     "metadata": {},
     "output_type": "display_data"
    }
   ],
   "source": [
    "# Select a subset (should be only one row) of data frame based on a selected country name and columns\n",
    "bahrain <- covid_data_frame_csv[covid_data_frame_csv['country']== 'Bahrain', c(1,4,7)]\n",
    "bahrain\n",
    "# Select a subset (should be only one row) of data frame based on a selected country name and columns\n",
    "chile <- covid_data_frame_csv[covid_data_frame_csv['country']== 'Chile', c(1,4,7)]\n",
    "chile"
   ]
  },
  {
   "cell_type": "markdown",
   "metadata": {},
   "source": [
    "## TASK 9: Compare which one of the selected countries has a larger ratio of confirmed cases to population\n",
    "\n",
    "The goal of task 9 is to find out which country you have selected before has larger ratio of confirmed cases to population, which may indicate that country has higher COVID-19 infection risk\n"
   ]
  },
  {
   "cell_type": "code",
   "execution_count": 43,
   "metadata": {},
   "outputs": [
    {
     "name": "stdout",
     "output_type": "stream",
     "text": [
      "[1] \"bahrain\"\n"
     ]
    }
   ],
   "source": [
    "# Use if-else statement\n",
    "# if (check which confirmed.population value is greater) {\n",
    "#    print()\n",
    "# } else {\n",
    "#    print()\n",
    "# }\n",
    "if(bahrain$confirmed.population.ratio > chile$confirmed.population.ratio){\n",
    "  print('bahrain')\n",
    "} else {\n",
    "  print('chile')\n",
    "}"
   ]
  },
  {
   "cell_type": "markdown",
   "metadata": {},
   "source": [
    "## TASK 10: Find countries with confirmed to population ratio rate less than a threshold\n",
    "\n",
    "The goal of task 10 is to find out which countries have the confirmed to population ratio less than 1%, it may indicate the risk of those countries are relatively low\n"
   ]
  },
  {
   "cell_type": "code",
   "execution_count": 44,
   "metadata": {},
   "outputs": [
    {
     "data": {
      "text/html": [
       "<table>\n",
       "<caption>A data.frame: 53 × 1</caption>\n",
       "<thead>\n",
       "\t<tr><th></th><th scope=col>country</th></tr>\n",
       "\t<tr><th></th><th scope=col>&lt;fct&gt;</th></tr>\n",
       "</thead>\n",
       "<tbody>\n",
       "\t<tr><th scope=row>1</th><td>Afghanistan        </td></tr>\n",
       "\t<tr><th scope=row>3</th><td>Algeria            </td></tr>\n",
       "\t<tr><th scope=row>5</th><td>Angola             </td></tr>\n",
       "\t<tr><th scope=row>6</th><td>Antigua and Barbuda</td></tr>\n",
       "\t<tr><th scope=row>14</th><td>Bangladesh         </td></tr>\n",
       "\t<tr><th scope=row>19</th><td>Benin              </td></tr>\n",
       "\t<tr><th scope=row>25</th><td>Brunei             </td></tr>\n",
       "\t<tr><th scope=row>27</th><td>Burkina Faso       </td></tr>\n",
       "\t<tr><th scope=row>28</th><td>Burundi            </td></tr>\n",
       "\t<tr><th scope=row>29</th><td>Cambodia           </td></tr>\n",
       "\t<tr><th scope=row>30</th><td>Cameroon           </td></tr>\n",
       "\t<tr><th scope=row>32</th><td>Chad               </td></tr>\n",
       "\t<tr><th scope=row>34</th><td>China[c]           </td></tr>\n",
       "\t<tr><th scope=row>45</th><td>DR Congo           </td></tr>\n",
       "\t<tr><th scope=row>47</th><td>Egypt              </td></tr>\n",
       "\t<tr><th scope=row>52</th><td>Ethiopia           </td></tr>\n",
       "\t<tr><th scope=row>57</th><td>Gabon              </td></tr>\n",
       "\t<tr><th scope=row>58</th><td>Gambia             </td></tr>\n",
       "\t<tr><th scope=row>61</th><td>Ghana              </td></tr>\n",
       "\t<tr><th scope=row>64</th><td>Grenada            </td></tr>\n",
       "\t<tr><th scope=row>66</th><td>Guinea             </td></tr>\n",
       "\t<tr><th scope=row>67</th><td>Guinea-Bissau      </td></tr>\n",
       "\t<tr><th scope=row>69</th><td>Haiti              </td></tr>\n",
       "\t<tr><th scope=row>80</th><td>Ivory Coast        </td></tr>\n",
       "\t<tr><th scope=row>82</th><td>Japan              </td></tr>\n",
       "\t<tr><th scope=row>85</th><td>Kenya              </td></tr>\n",
       "\t<tr><th scope=row>89</th><td>Laos               </td></tr>\n",
       "\t<tr><th scope=row>93</th><td>Liberia            </td></tr>\n",
       "\t<tr><th scope=row>97</th><td>Madagascar         </td></tr>\n",
       "\t<tr><th scope=row>98</th><td>Malawi             </td></tr>\n",
       "\t<tr><th scope=row>101</th><td>Mali               </td></tr>\n",
       "\t<tr><th scope=row>103</th><td>Mauritania         </td></tr>\n",
       "\t<tr><th scope=row>104</th><td>Mauritius          </td></tr>\n",
       "\t<tr><th scope=row>110</th><td>Mozambique         </td></tr>\n",
       "\t<tr><th scope=row>111</th><td>Myanmar            </td></tr>\n",
       "\t<tr><th scope=row>115</th><td>New Caledonia      </td></tr>\n",
       "\t<tr><th scope=row>117</th><td>Niger              </td></tr>\n",
       "\t<tr><th scope=row>118</th><td>Nigeria            </td></tr>\n",
       "\t<tr><th scope=row>119</th><td>North Korea        </td></tr>\n",
       "\t<tr><th scope=row>124</th><td>Pakistan           </td></tr>\n",
       "\t<tr><th scope=row>127</th><td>Papua New Guinea   </td></tr>\n",
       "\t<tr><th scope=row>136</th><td>Rwanda             </td></tr>\n",
       "\t<tr><th scope=row>142</th><td>Senegal            </td></tr>\n",
       "\t<tr><th scope=row>148</th><td>South Korea        </td></tr>\n",
       "\t<tr><th scope=row>149</th><td>South Sudan        </td></tr>\n",
       "\t<tr><th scope=row>151</th><td>Sri Lanka          </td></tr>\n",
       "\t<tr><th scope=row>152</th><td>Sudan              </td></tr>\n",
       "\t<tr><th scope=row>156</th><td>Tanzania           </td></tr>\n",
       "\t<tr><th scope=row>157</th><td>Thailand           </td></tr>\n",
       "\t<tr><th scope=row>158</th><td>Togo               </td></tr>\n",
       "\t<tr><th scope=row>162</th><td>Uganda             </td></tr>\n",
       "\t<tr><th scope=row>168</th><td>Uzbekistan         </td></tr>\n",
       "\t<tr><th scope=row>169</th><td>Venezuela          </td></tr>\n",
       "</tbody>\n",
       "</table>\n"
      ],
      "text/latex": [
       "A data.frame: 53 × 1\n",
       "\\begin{tabular}{r|l}\n",
       "  & country\\\\\n",
       "  & <fct>\\\\\n",
       "\\hline\n",
       "\t1 & Afghanistan        \\\\\n",
       "\t3 & Algeria            \\\\\n",
       "\t5 & Angola             \\\\\n",
       "\t6 & Antigua and Barbuda\\\\\n",
       "\t14 & Bangladesh         \\\\\n",
       "\t19 & Benin              \\\\\n",
       "\t25 & Brunei             \\\\\n",
       "\t27 & Burkina Faso       \\\\\n",
       "\t28 & Burundi            \\\\\n",
       "\t29 & Cambodia           \\\\\n",
       "\t30 & Cameroon           \\\\\n",
       "\t32 & Chad               \\\\\n",
       "\t34 & China{[}c{]}           \\\\\n",
       "\t45 & DR Congo           \\\\\n",
       "\t47 & Egypt              \\\\\n",
       "\t52 & Ethiopia           \\\\\n",
       "\t57 & Gabon              \\\\\n",
       "\t58 & Gambia             \\\\\n",
       "\t61 & Ghana              \\\\\n",
       "\t64 & Grenada            \\\\\n",
       "\t66 & Guinea             \\\\\n",
       "\t67 & Guinea-Bissau      \\\\\n",
       "\t69 & Haiti              \\\\\n",
       "\t80 & Ivory Coast        \\\\\n",
       "\t82 & Japan              \\\\\n",
       "\t85 & Kenya              \\\\\n",
       "\t89 & Laos               \\\\\n",
       "\t93 & Liberia            \\\\\n",
       "\t97 & Madagascar         \\\\\n",
       "\t98 & Malawi             \\\\\n",
       "\t101 & Mali               \\\\\n",
       "\t103 & Mauritania         \\\\\n",
       "\t104 & Mauritius          \\\\\n",
       "\t110 & Mozambique         \\\\\n",
       "\t111 & Myanmar            \\\\\n",
       "\t115 & New Caledonia      \\\\\n",
       "\t117 & Niger              \\\\\n",
       "\t118 & Nigeria            \\\\\n",
       "\t119 & North Korea        \\\\\n",
       "\t124 & Pakistan           \\\\\n",
       "\t127 & Papua New Guinea   \\\\\n",
       "\t136 & Rwanda             \\\\\n",
       "\t142 & Senegal            \\\\\n",
       "\t148 & South Korea        \\\\\n",
       "\t149 & South Sudan        \\\\\n",
       "\t151 & Sri Lanka          \\\\\n",
       "\t152 & Sudan              \\\\\n",
       "\t156 & Tanzania           \\\\\n",
       "\t157 & Thailand           \\\\\n",
       "\t158 & Togo               \\\\\n",
       "\t162 & Uganda             \\\\\n",
       "\t168 & Uzbekistan         \\\\\n",
       "\t169 & Venezuela          \\\\\n",
       "\\end{tabular}\n"
      ],
      "text/markdown": [
       "\n",
       "A data.frame: 53 × 1\n",
       "\n",
       "| <!--/--> | country &lt;fct&gt; |\n",
       "|---|---|\n",
       "| 1 | Afghanistan         |\n",
       "| 3 | Algeria             |\n",
       "| 5 | Angola              |\n",
       "| 6 | Antigua and Barbuda |\n",
       "| 14 | Bangladesh          |\n",
       "| 19 | Benin               |\n",
       "| 25 | Brunei              |\n",
       "| 27 | Burkina Faso        |\n",
       "| 28 | Burundi             |\n",
       "| 29 | Cambodia            |\n",
       "| 30 | Cameroon            |\n",
       "| 32 | Chad                |\n",
       "| 34 | China[c]            |\n",
       "| 45 | DR Congo            |\n",
       "| 47 | Egypt               |\n",
       "| 52 | Ethiopia            |\n",
       "| 57 | Gabon               |\n",
       "| 58 | Gambia              |\n",
       "| 61 | Ghana               |\n",
       "| 64 | Grenada             |\n",
       "| 66 | Guinea              |\n",
       "| 67 | Guinea-Bissau       |\n",
       "| 69 | Haiti               |\n",
       "| 80 | Ivory Coast         |\n",
       "| 82 | Japan               |\n",
       "| 85 | Kenya               |\n",
       "| 89 | Laos                |\n",
       "| 93 | Liberia             |\n",
       "| 97 | Madagascar          |\n",
       "| 98 | Malawi              |\n",
       "| 101 | Mali                |\n",
       "| 103 | Mauritania          |\n",
       "| 104 | Mauritius           |\n",
       "| 110 | Mozambique          |\n",
       "| 111 | Myanmar             |\n",
       "| 115 | New Caledonia       |\n",
       "| 117 | Niger               |\n",
       "| 118 | Nigeria             |\n",
       "| 119 | North Korea         |\n",
       "| 124 | Pakistan            |\n",
       "| 127 | Papua New Guinea    |\n",
       "| 136 | Rwanda              |\n",
       "| 142 | Senegal             |\n",
       "| 148 | South Korea         |\n",
       "| 149 | South Sudan         |\n",
       "| 151 | Sri Lanka           |\n",
       "| 152 | Sudan               |\n",
       "| 156 | Tanzania            |\n",
       "| 157 | Thailand            |\n",
       "| 158 | Togo                |\n",
       "| 162 | Uganda              |\n",
       "| 168 | Uzbekistan          |\n",
       "| 169 | Venezuela           |\n",
       "\n"
      ],
      "text/plain": [
       "    country            \n",
       "1   Afghanistan        \n",
       "3   Algeria            \n",
       "5   Angola             \n",
       "6   Antigua and Barbuda\n",
       "14  Bangladesh         \n",
       "19  Benin              \n",
       "25  Brunei             \n",
       "27  Burkina Faso       \n",
       "28  Burundi            \n",
       "29  Cambodia           \n",
       "30  Cameroon           \n",
       "32  Chad               \n",
       "34  China[c]           \n",
       "45  DR Congo           \n",
       "47  Egypt              \n",
       "52  Ethiopia           \n",
       "57  Gabon              \n",
       "58  Gambia             \n",
       "61  Ghana              \n",
       "64  Grenada            \n",
       "66  Guinea             \n",
       "67  Guinea-Bissau      \n",
       "69  Haiti              \n",
       "80  Ivory Coast        \n",
       "82  Japan              \n",
       "85  Kenya              \n",
       "89  Laos               \n",
       "93  Liberia            \n",
       "97  Madagascar         \n",
       "98  Malawi             \n",
       "101 Mali               \n",
       "103 Mauritania         \n",
       "104 Mauritius          \n",
       "110 Mozambique         \n",
       "111 Myanmar            \n",
       "115 New Caledonia      \n",
       "117 Niger              \n",
       "118 Nigeria            \n",
       "119 North Korea        \n",
       "124 Pakistan           \n",
       "127 Papua New Guinea   \n",
       "136 Rwanda             \n",
       "142 Senegal            \n",
       "148 South Korea        \n",
       "149 South Sudan        \n",
       "151 Sri Lanka          \n",
       "152 Sudan              \n",
       "156 Tanzania           \n",
       "157 Thailand           \n",
       "158 Togo               \n",
       "162 Uganda             \n",
       "168 Uzbekistan         \n",
       "169 Venezuela          "
      ]
     },
     "metadata": {},
     "output_type": "display_data"
    }
   ],
   "source": [
    "# Get a subset of any countries with `confirmed.population.ratio` less than the threshold\n",
    "subset(covid_data_frame_csv, covid_data_frame_csv['confirmed.population.ratio'] < 1, country)"
   ]
  },
  {
   "cell_type": "code",
   "execution_count": null,
   "metadata": {},
   "outputs": [],
   "source": []
  }
 ],
 "metadata": {
  "kernelspec": {
   "display_name": "R",
   "language": "R",
   "name": "conda-env-r-r"
  },
  "language_info": {
   "codemirror_mode": "r",
   "file_extension": ".r",
   "mimetype": "text/x-r-source",
   "name": "R",
   "pygments_lexer": "r",
   "version": "3.5.1"
  }
 },
 "nbformat": 4,
 "nbformat_minor": 4
}
